{
 "cells": [
  {
   "cell_type": "markdown",
   "metadata": {},
   "source": [
    "# Malicious Link Classifier"
   ]
  },
  {
   "cell_type": "markdown",
   "metadata": {},
   "source": [
    "**First the imports**"
   ]
  },
  {
   "cell_type": "code",
   "execution_count": 1,
   "metadata": {},
   "outputs": [],
   "source": [
    "from sklearn.ensemble import RandomForestClassifier\n",
    "import pandas as pd \n",
    "import csv"
   ]
  },
  {
   "cell_type": "markdown",
   "metadata": {},
   "source": [
    "**Reading the Data**"
   ]
  },
  {
   "cell_type": "code",
   "execution_count": 2,
   "metadata": {},
   "outputs": [],
   "source": [
    "df = pd.read_csv('blacklisted_URLs_data.csv')"
   ]
  },
  {
   "cell_type": "markdown",
   "metadata": {},
   "source": [
    "Lets Have a look at our data"
   ]
  },
  {
   "cell_type": "code",
   "execution_count": 3,
   "metadata": {},
   "outputs": [
    {
     "data": {
      "text/html": [
       "<div>\n",
       "<style>\n",
       "    .dataframe thead tr:only-child th {\n",
       "        text-align: right;\n",
       "    }\n",
       "\n",
       "    .dataframe thead th {\n",
       "        text-align: left;\n",
       "    }\n",
       "\n",
       "    .dataframe tbody tr th {\n",
       "        vertical-align: top;\n",
       "    }\n",
       "</style>\n",
       "<table border=\"1\" class=\"dataframe\">\n",
       "  <thead>\n",
       "    <tr style=\"text-align: right;\">\n",
       "      <th></th>\n",
       "      <th>L_http</th>\n",
       "      <th>L_https</th>\n",
       "      <th>L_numHyphens</th>\n",
       "      <th>L_numParams</th>\n",
       "      <th>L_numSubDomains</th>\n",
       "      <th>L_paramLen</th>\n",
       "      <th>L_pathLen</th>\n",
       "      <th>M_app</th>\n",
       "      <th>M_hasFBUrl</th>\n",
       "      <th>M_hasFBappURL</th>\n",
       "      <th>...</th>\n",
       "      <th>U_category</th>\n",
       "      <th>U_gender</th>\n",
       "      <th>U_hasUsername</th>\n",
       "      <th>U_isPage</th>\n",
       "      <th>U_lenName</th>\n",
       "      <th>U_lenUsername</th>\n",
       "      <th>U_locale</th>\n",
       "      <th>U_pageLikes</th>\n",
       "      <th>U_wordsInName</th>\n",
       "      <th>Z_CLASS</th>\n",
       "    </tr>\n",
       "  </thead>\n",
       "  <tbody>\n",
       "    <tr>\n",
       "      <th>0</th>\n",
       "      <td>1</td>\n",
       "      <td>0</td>\n",
       "      <td>7</td>\n",
       "      <td>0</td>\n",
       "      <td>2.0</td>\n",
       "      <td>0.0</td>\n",
       "      <td>2.0</td>\n",
       "      <td>thirdparty</td>\n",
       "      <td>0</td>\n",
       "      <td>0</td>\n",
       "      <td>...</td>\n",
       "      <td>2</td>\n",
       "      <td>0</td>\n",
       "      <td>1</td>\n",
       "      <td>1</td>\n",
       "      <td>8</td>\n",
       "      <td>8</td>\n",
       "      <td>0</td>\n",
       "      <td>26</td>\n",
       "      <td>1</td>\n",
       "      <td>Spam</td>\n",
       "    </tr>\n",
       "    <tr>\n",
       "      <th>1</th>\n",
       "      <td>1</td>\n",
       "      <td>0</td>\n",
       "      <td>0</td>\n",
       "      <td>0</td>\n",
       "      <td>2.0</td>\n",
       "      <td>0.0</td>\n",
       "      <td>1.0</td>\n",
       "      <td>thirdparty</td>\n",
       "      <td>0</td>\n",
       "      <td>0</td>\n",
       "      <td>...</td>\n",
       "      <td>0</td>\n",
       "      <td>1</td>\n",
       "      <td>1</td>\n",
       "      <td>0</td>\n",
       "      <td>13</td>\n",
       "      <td>10</td>\n",
       "      <td>1</td>\n",
       "      <td>0</td>\n",
       "      <td>2</td>\n",
       "      <td>Spam</td>\n",
       "    </tr>\n",
       "    <tr>\n",
       "      <th>2</th>\n",
       "      <td>1</td>\n",
       "      <td>0</td>\n",
       "      <td>0</td>\n",
       "      <td>5</td>\n",
       "      <td>3.0</td>\n",
       "      <td>11.2</td>\n",
       "      <td>2.5</td>\n",
       "      <td>web</td>\n",
       "      <td>0</td>\n",
       "      <td>0</td>\n",
       "      <td>...</td>\n",
       "      <td>0</td>\n",
       "      <td>1</td>\n",
       "      <td>1</td>\n",
       "      <td>0</td>\n",
       "      <td>15</td>\n",
       "      <td>15</td>\n",
       "      <td>2</td>\n",
       "      <td>0</td>\n",
       "      <td>2</td>\n",
       "      <td>Spam</td>\n",
       "    </tr>\n",
       "    <tr>\n",
       "      <th>3</th>\n",
       "      <td>1</td>\n",
       "      <td>0</td>\n",
       "      <td>0</td>\n",
       "      <td>0</td>\n",
       "      <td>2.0</td>\n",
       "      <td>0.0</td>\n",
       "      <td>1.0</td>\n",
       "      <td>mobile</td>\n",
       "      <td>0</td>\n",
       "      <td>0</td>\n",
       "      <td>...</td>\n",
       "      <td>0</td>\n",
       "      <td>2</td>\n",
       "      <td>1</td>\n",
       "      <td>0</td>\n",
       "      <td>12</td>\n",
       "      <td>10</td>\n",
       "      <td>1</td>\n",
       "      <td>0</td>\n",
       "      <td>2</td>\n",
       "      <td>Spam</td>\n",
       "    </tr>\n",
       "    <tr>\n",
       "      <th>4</th>\n",
       "      <td>1</td>\n",
       "      <td>0</td>\n",
       "      <td>0</td>\n",
       "      <td>0</td>\n",
       "      <td>2.0</td>\n",
       "      <td>0.0</td>\n",
       "      <td>1.0</td>\n",
       "      <td>web</td>\n",
       "      <td>0</td>\n",
       "      <td>0</td>\n",
       "      <td>...</td>\n",
       "      <td>0</td>\n",
       "      <td>2</td>\n",
       "      <td>1</td>\n",
       "      <td>0</td>\n",
       "      <td>16</td>\n",
       "      <td>11</td>\n",
       "      <td>1</td>\n",
       "      <td>0</td>\n",
       "      <td>2</td>\n",
       "      <td>Spam</td>\n",
       "    </tr>\n",
       "  </tbody>\n",
       "</table>\n",
       "<p>5 rows × 45 columns</p>\n",
       "</div>"
      ],
      "text/plain": [
       "   L_http  L_https  L_numHyphens  L_numParams  L_numSubDomains  L_paramLen  \\\n",
       "0       1        0             7            0              2.0         0.0   \n",
       "1       1        0             0            0              2.0         0.0   \n",
       "2       1        0             0            5              3.0        11.2   \n",
       "3       1        0             0            0              2.0         0.0   \n",
       "4       1        0             0            0              2.0         0.0   \n",
       "\n",
       "   L_pathLen       M_app  M_hasFBUrl  M_hasFBappURL   ...     U_category  \\\n",
       "0        2.0  thirdparty           0              0   ...              2   \n",
       "1        1.0  thirdparty           0              0   ...              0   \n",
       "2        2.5         web           0              0   ...              0   \n",
       "3        1.0      mobile           0              0   ...              0   \n",
       "4        1.0         web           0              0   ...              0   \n",
       "\n",
       "   U_gender  U_hasUsername  U_isPage  U_lenName  U_lenUsername  U_locale  \\\n",
       "0         0              1         1          8              8         0   \n",
       "1         1              1         0         13             10         1   \n",
       "2         1              1         0         15             15         2   \n",
       "3         2              1         0         12             10         1   \n",
       "4         2              1         0         16             11         1   \n",
       "\n",
       "   U_pageLikes  U_wordsInName  Z_CLASS  \n",
       "0           26              1     Spam  \n",
       "1            0              2     Spam  \n",
       "2            0              2     Spam  \n",
       "3            0              2     Spam  \n",
       "4            0              2     Spam  \n",
       "\n",
       "[5 rows x 45 columns]"
      ]
     },
     "execution_count": 3,
     "metadata": {},
     "output_type": "execute_result"
    }
   ],
   "source": [
    "df.head()"
   ]
  },
  {
   "cell_type": "markdown",
   "metadata": {},
   "source": [
    "**Splitting the Data**"
   ]
  },
  {
   "cell_type": "code",
   "execution_count": 4,
   "metadata": {},
   "outputs": [],
   "source": [
    "#Splitting data into training and test set\n",
    "from sklearn.model_selection import train_test_split\n",
    "training_partition, test_partition = train_test_split(df, test_size = 0.2)"
   ]
  },
  {
   "cell_type": "markdown",
   "metadata": {},
   "source": [
    "### Building the Training Data and Testing Data"
   ]
  },
  {
   "cell_type": "markdown",
   "metadata": {},
   "source": [
    "* **Training Data**"
   ]
  },
  {
   "cell_type": "code",
   "execution_count": null,
   "metadata": {
    "collapsed": true
   },
   "outputs": [],
   "source": [
    "train = training_partition[['L_http','L_https','L_numHyphens','L_numParams','L_numSubDomains','L_paramLen','L_pathLen','M_hasFBUrl','M_hasFBappURL',\n",
    "'M_hasFBeventURL','M_hasLink','M_hasMessage','M_hasPicture','M_hasStory','M_length_of_link','M_postType',\n",
    "'T_!','T_!!','T_:(','T_:)','T_?','T_??','T_avgSentLen','T_avgWordLen','T_engDictWords','T_hashtagsPerWord',\n",
    "'T_numChars','T_numHashtags','T_numSentences','T_numUrls','T_numWords','T_textRepFactor','T_upperCaseChars',\n",
    "'T_urlsPerWord','U_category','U_gender','U_hasUsername','U_isPage','U_lenName','U_lenUsername','U_locale',\n",
    " 'U_pageLikes','U_wordsInName', 'M_app']]"
   ]
  },
  {
   "cell_type": "markdown",
   "metadata": {},
   "source": [
    "**Basic Feature Engineering**"
   ]
  },
  {
   "cell_type": "code",
   "execution_count": 5,
   "metadata": {},
   "outputs": [],
   "source": [
    "def convert_to_bool(x):\n",
    "    return 1 if x == 'Spam' else 0"
   ]
  },
  {
   "cell_type": "code",
   "execution_count": 6,
   "metadata": {},
   "outputs": [],
   "source": [
    "labels = training_partition['Z_CLASS'].apply(convert_to_bool)"
   ]
  },
  {
   "cell_type": "code",
   "execution_count": 7,
   "metadata": {},
   "outputs": [
    {
     "name": "stdout",
     "output_type": "stream",
     "text": [
      "{'mobile': 0, 'web': 1, 'other': 4, 'thirdparty': 2, 'contentsharing': 3}\n"
     ]
    }
   ],
   "source": [
    "app_to_num_lookup = dict(mobile=0, web=1, thirdparty=2, contentsharing=3, other=4)\n",
    "print app_to_num_lookup\n"
   ]
  },
  {
   "cell_type": "code",
   "execution_count": 11,
   "metadata": {},
   "outputs": [
    {
     "data": {
      "text/html": [
       "<div>\n",
       "<style>\n",
       "    .dataframe thead tr:only-child th {\n",
       "        text-align: right;\n",
       "    }\n",
       "\n",
       "    .dataframe thead th {\n",
       "        text-align: left;\n",
       "    }\n",
       "\n",
       "    .dataframe tbody tr th {\n",
       "        vertical-align: top;\n",
       "    }\n",
       "</style>\n",
       "<table border=\"1\" class=\"dataframe\">\n",
       "  <thead>\n",
       "    <tr style=\"text-align: right;\">\n",
       "      <th></th>\n",
       "      <th>L_http</th>\n",
       "      <th>L_https</th>\n",
       "      <th>L_numHyphens</th>\n",
       "      <th>L_numParams</th>\n",
       "      <th>L_numSubDomains</th>\n",
       "      <th>L_paramLen</th>\n",
       "      <th>L_pathLen</th>\n",
       "      <th>M_app</th>\n",
       "      <th>M_hasFBUrl</th>\n",
       "      <th>M_hasFBappURL</th>\n",
       "      <th>...</th>\n",
       "      <th>U_category</th>\n",
       "      <th>U_gender</th>\n",
       "      <th>U_hasUsername</th>\n",
       "      <th>U_isPage</th>\n",
       "      <th>U_lenName</th>\n",
       "      <th>U_lenUsername</th>\n",
       "      <th>U_locale</th>\n",
       "      <th>U_pageLikes</th>\n",
       "      <th>U_wordsInName</th>\n",
       "      <th>Z_CLASS</th>\n",
       "    </tr>\n",
       "  </thead>\n",
       "  <tbody>\n",
       "    <tr>\n",
       "      <th>0</th>\n",
       "      <td>1</td>\n",
       "      <td>0</td>\n",
       "      <td>7</td>\n",
       "      <td>0</td>\n",
       "      <td>2.0</td>\n",
       "      <td>0.0</td>\n",
       "      <td>2.0</td>\n",
       "      <td>thirdparty</td>\n",
       "      <td>0</td>\n",
       "      <td>0</td>\n",
       "      <td>...</td>\n",
       "      <td>2</td>\n",
       "      <td>0</td>\n",
       "      <td>1</td>\n",
       "      <td>1</td>\n",
       "      <td>8</td>\n",
       "      <td>8</td>\n",
       "      <td>0</td>\n",
       "      <td>26</td>\n",
       "      <td>1</td>\n",
       "      <td>Spam</td>\n",
       "    </tr>\n",
       "    <tr>\n",
       "      <th>1</th>\n",
       "      <td>1</td>\n",
       "      <td>0</td>\n",
       "      <td>0</td>\n",
       "      <td>0</td>\n",
       "      <td>2.0</td>\n",
       "      <td>0.0</td>\n",
       "      <td>1.0</td>\n",
       "      <td>thirdparty</td>\n",
       "      <td>0</td>\n",
       "      <td>0</td>\n",
       "      <td>...</td>\n",
       "      <td>0</td>\n",
       "      <td>1</td>\n",
       "      <td>1</td>\n",
       "      <td>0</td>\n",
       "      <td>13</td>\n",
       "      <td>10</td>\n",
       "      <td>1</td>\n",
       "      <td>0</td>\n",
       "      <td>2</td>\n",
       "      <td>Spam</td>\n",
       "    </tr>\n",
       "    <tr>\n",
       "      <th>2</th>\n",
       "      <td>1</td>\n",
       "      <td>0</td>\n",
       "      <td>0</td>\n",
       "      <td>5</td>\n",
       "      <td>3.0</td>\n",
       "      <td>11.2</td>\n",
       "      <td>2.5</td>\n",
       "      <td>web</td>\n",
       "      <td>0</td>\n",
       "      <td>0</td>\n",
       "      <td>...</td>\n",
       "      <td>0</td>\n",
       "      <td>1</td>\n",
       "      <td>1</td>\n",
       "      <td>0</td>\n",
       "      <td>15</td>\n",
       "      <td>15</td>\n",
       "      <td>2</td>\n",
       "      <td>0</td>\n",
       "      <td>2</td>\n",
       "      <td>Spam</td>\n",
       "    </tr>\n",
       "    <tr>\n",
       "      <th>3</th>\n",
       "      <td>1</td>\n",
       "      <td>0</td>\n",
       "      <td>0</td>\n",
       "      <td>0</td>\n",
       "      <td>2.0</td>\n",
       "      <td>0.0</td>\n",
       "      <td>1.0</td>\n",
       "      <td>mobile</td>\n",
       "      <td>0</td>\n",
       "      <td>0</td>\n",
       "      <td>...</td>\n",
       "      <td>0</td>\n",
       "      <td>2</td>\n",
       "      <td>1</td>\n",
       "      <td>0</td>\n",
       "      <td>12</td>\n",
       "      <td>10</td>\n",
       "      <td>1</td>\n",
       "      <td>0</td>\n",
       "      <td>2</td>\n",
       "      <td>Spam</td>\n",
       "    </tr>\n",
       "    <tr>\n",
       "      <th>4</th>\n",
       "      <td>1</td>\n",
       "      <td>0</td>\n",
       "      <td>0</td>\n",
       "      <td>0</td>\n",
       "      <td>2.0</td>\n",
       "      <td>0.0</td>\n",
       "      <td>1.0</td>\n",
       "      <td>web</td>\n",
       "      <td>0</td>\n",
       "      <td>0</td>\n",
       "      <td>...</td>\n",
       "      <td>0</td>\n",
       "      <td>2</td>\n",
       "      <td>1</td>\n",
       "      <td>0</td>\n",
       "      <td>16</td>\n",
       "      <td>11</td>\n",
       "      <td>1</td>\n",
       "      <td>0</td>\n",
       "      <td>2</td>\n",
       "      <td>Spam</td>\n",
       "    </tr>\n",
       "  </tbody>\n",
       "</table>\n",
       "<p>5 rows × 45 columns</p>\n",
       "</div>"
      ],
      "text/plain": [
       "   L_http  L_https  L_numHyphens  L_numParams  L_numSubDomains  L_paramLen  \\\n",
       "0       1        0             7            0              2.0         0.0   \n",
       "1       1        0             0            0              2.0         0.0   \n",
       "2       1        0             0            5              3.0        11.2   \n",
       "3       1        0             0            0              2.0         0.0   \n",
       "4       1        0             0            0              2.0         0.0   \n",
       "\n",
       "   L_pathLen       M_app  M_hasFBUrl  M_hasFBappURL   ...     U_category  \\\n",
       "0        2.0  thirdparty           0              0   ...              2   \n",
       "1        1.0  thirdparty           0              0   ...              0   \n",
       "2        2.5         web           0              0   ...              0   \n",
       "3        1.0      mobile           0              0   ...              0   \n",
       "4        1.0         web           0              0   ...              0   \n",
       "\n",
       "   U_gender  U_hasUsername  U_isPage  U_lenName  U_lenUsername  U_locale  \\\n",
       "0         0              1         1          8              8         0   \n",
       "1         1              1         0         13             10         1   \n",
       "2         1              1         0         15             15         2   \n",
       "3         2              1         0         12             10         1   \n",
       "4         2              1         0         16             11         1   \n",
       "\n",
       "   U_pageLikes  U_wordsInName  Z_CLASS  \n",
       "0           26              1     Spam  \n",
       "1            0              2     Spam  \n",
       "2            0              2     Spam  \n",
       "3            0              2     Spam  \n",
       "4            0              2     Spam  \n",
       "\n",
       "[5 rows x 45 columns]"
      ]
     },
     "execution_count": 11,
     "metadata": {},
     "output_type": "execute_result"
    },
    {
     "name": "stdout",
     "output_type": "stream",
     "text": [
      "\n"
     ]
    }
   ],
   "source": [
    "'''def app_to_num(x):\n",
    "    return app_to_num_lookup[x]\n",
    "\n",
    "train['M_app'] = train['M_app'].apply(app_to_num)'''\n",
    "df.head()"
   ]
  },
  {
   "cell_type": "markdown",
   "metadata": {
    "collapsed": true
   },
   "source": [
    "**Remember What ever feature engineering techniques or changes you have to your training data the same must be done to test data**"
   ]
  },
  {
   "cell_type": "code",
   "execution_count": 9,
   "metadata": {},
   "outputs": [
    {
     "name": "stderr",
     "output_type": "stream",
     "text": [
      "c:\\python27\\lib\\site-packages\\ipykernel_launcher.py:26: SettingWithCopyWarning: \n",
      "A value is trying to be set on a copy of a slice from a DataFrame.\n",
      "Try using .loc[row_indexer,col_indexer] = value instead\n",
      "\n",
      "See the caveats in the documentation: http://pandas.pydata.org/pandas-docs/stable/indexing.html#indexing-view-versus-copy\n"
     ]
    }
   ],
   "source": [
    "'''\n",
    "Building the testing set\n",
    "'''\n",
    "\n",
    "\n",
    "test_set = test_partition[['L_http','L_https','L_numHyphens','L_numParams','L_numSubDomains','L_paramLen','L_pathLen','M_hasFBUrl','M_hasFBappURL',\n",
    "'M_hasFBeventURL','M_hasLink','M_hasMessage','M_hasPicture','M_hasStory','M_length_of_link','M_postType',\n",
    "'T_!','T_!!','T_:(','T_:)','T_?','T_??','T_avgSentLen','T_avgWordLen','T_engDictWords','T_hashtagsPerWord',\n",
    "'T_numChars','T_numHashtags','T_numSentences','T_numUrls','T_numWords','T_textRepFactor','T_upperCaseChars',\n",
    "'T_urlsPerWord','U_category','U_gender','U_hasUsername','U_isPage','U_lenName','U_lenUsername','U_locale',\n",
    " 'U_pageLikes','U_wordsInName', 'M_app']]\n",
    "\n",
    "#Feature engineering\n",
    "def convert_to_bool(x):\n",
    "\treturn 1 if x == 'Spam' else 0\n",
    "\n",
    "true_labels = test_partition['Z_CLASS'].apply(convert_to_bool)\n",
    "\n",
    "\n",
    "\n",
    "app_to_num_lookup = dict(mobile=0, web=1, thirdparty=2, contentsharing=3, other=4)\n",
    "\n",
    "def app_to_num(x):\n",
    "\treturn app_to_num_lookup[x]\n",
    "\n",
    "test_set['M_app'] = test_set['M_app'].apply(app_to_num)"
   ]
  },
  {
   "cell_type": "code",
   "execution_count": 10,
   "metadata": {},
   "outputs": [
    {
     "name": "stdout",
     "output_type": "stream",
     "text": [
      "Length of training data: "
     ]
    },
    {
     "ename": "NameError",
     "evalue": "name 'train' is not defined",
     "output_type": "error",
     "traceback": [
      "\u001b[1;31m---------------------------------------------------------------------------\u001b[0m",
      "\u001b[1;31mNameError\u001b[0m                                 Traceback (most recent call last)",
      "\u001b[1;32m<ipython-input-10-1f057ca93b58>\u001b[0m in \u001b[0;36m<module>\u001b[1;34m()\u001b[0m\n\u001b[0;32m      1\u001b[0m \u001b[1;31m#Shape of the training and test set\u001b[0m\u001b[1;33m\u001b[0m\u001b[1;33m\u001b[0m\u001b[0m\n\u001b[1;32m----> 2\u001b[1;33m \u001b[1;32mprint\u001b[0m \u001b[1;34m\"Length of training data: \"\u001b[0m\u001b[1;33m,\u001b[0m\u001b[0mtrain\u001b[0m\u001b[1;33m.\u001b[0m\u001b[0mshape\u001b[0m\u001b[1;33m\u001b[0m\u001b[0m\n\u001b[0m\u001b[0;32m      3\u001b[0m \u001b[1;32mprint\u001b[0m \u001b[1;34m\"Length of training labels: \"\u001b[0m\u001b[1;33m,\u001b[0m\u001b[0mlabels\u001b[0m\u001b[1;33m.\u001b[0m\u001b[0mshape\u001b[0m\u001b[1;33m\u001b[0m\u001b[0m\n\u001b[0;32m      4\u001b[0m \u001b[1;32mprint\u001b[0m \u001b[1;34m\"Length of the test partition: \"\u001b[0m\u001b[1;33m,\u001b[0m\u001b[0mtest_partition\u001b[0m\u001b[1;33m.\u001b[0m\u001b[0mshape\u001b[0m\u001b[1;33m\u001b[0m\u001b[0m\n\u001b[0;32m      5\u001b[0m \u001b[1;32mprint\u001b[0m \u001b[1;34m\"Length of the test set: \"\u001b[0m\u001b[1;33m,\u001b[0m\u001b[0mtest_set\u001b[0m\u001b[1;33m.\u001b[0m\u001b[0mshape\u001b[0m\u001b[1;33m\u001b[0m\u001b[0m\n",
      "\u001b[1;31mNameError\u001b[0m: name 'train' is not defined"
     ]
    }
   ],
   "source": [
    "#Shape of the training and test set\n",
    "print \"Length of training data: \",train.shape\n",
    "print \"Length of training labels: \",labels.shape\n",
    "print \"Length of the test partition: \",test_partition.shape\n",
    "print \"Length of the test set: \",test_set.shape"
   ]
  },
  {
   "cell_type": "code",
   "execution_count": null,
   "metadata": {
    "collapsed": true
   },
   "outputs": [],
   "source": [
    "#Appying the classifier from sklearn\n",
    "from sklearn.ensemble import  RandomForestClassifier"
   ]
  },
  {
   "cell_type": "code",
   "execution_count": null,
   "metadata": {
    "collapsed": true
   },
   "outputs": [],
   "source": [
    "alg = RandomForestClassifier()   #Load the estimator"
   ]
  },
  {
   "cell_type": "code",
   "execution_count": null,
   "metadata": {},
   "outputs": [],
   "source": [
    "alg.fit(train, labels)  #Fit the estimator"
   ]
  },
  {
   "cell_type": "code",
   "execution_count": null,
   "metadata": {
    "collapsed": true
   },
   "outputs": [],
   "source": [
    "result = alg.predict(test_set) #Predict the estimator \n"
   ]
  },
  {
   "cell_type": "code",
   "execution_count": null,
   "metadata": {},
   "outputs": [],
   "source": [
    "#Results of the prediction\n",
    "print result"
   ]
  },
  {
   "cell_type": "code",
   "execution_count": null,
   "metadata": {},
   "outputs": [],
   "source": [
    "#Predicting the values from the test set\n",
    "print alg.predict_proba(test_set)"
   ]
  },
  {
   "cell_type": "code",
   "execution_count": null,
   "metadata": {},
   "outputs": [],
   "source": [
    "#The order of classes\n",
    "#0 -> NotSpam  1 -> Spam\n",
    "print alg.classes_"
   ]
  },
  {
   "cell_type": "code",
   "execution_count": null,
   "metadata": {},
   "outputs": [],
   "source": [
    "#Get accuracu score\n",
    "from sklearn.metrics import accuracy_score\n",
    "print \"Accuracy score: \",accuracy_score(true_labels,result)"
   ]
  },
  {
   "cell_type": "code",
   "execution_count": null,
   "metadata": {
    "collapsed": true
   },
   "outputs": [],
   "source": []
  }
 ],
 "metadata": {
  "kernelspec": {
   "display_name": "Python 2",
   "language": "python",
   "name": "python2"
  },
  "language_info": {
   "codemirror_mode": {
    "name": "ipython",
    "version": 2
   },
   "file_extension": ".py",
   "mimetype": "text/x-python",
   "name": "python",
   "nbconvert_exporter": "python",
   "pygments_lexer": "ipython2",
   "version": "2.7.14"
  }
 },
 "nbformat": 4,
 "nbformat_minor": 2
}
